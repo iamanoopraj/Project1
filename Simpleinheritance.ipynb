{
 "cells": [
  {
   "cell_type": "markdown",
   "id": "3a49809b",
   "metadata": {},
   "source": [
    "1. Abstraction\n",
    "2. Encapsulation\n",
    "3. Inheritance(Simple Inheritance,Multilevel,Multiple)\n",
    "4. Polymorphism"
   ]
  },
  {
   "cell_type": "code",
   "execution_count": 1,
   "id": "21e2597f",
   "metadata": {},
   "outputs": [],
   "source": [
    "class Employee:\n",
    "\n",
    "    increment = 1.05\n",
    "    \n",
    "    emp_count = 0\n",
    "   \n",
    "    def __init__(self,firstname,lastname,salary): \n",
    "        \n",
    "        Employee.emp_count+=1\n",
    "   \n",
    "        # Attributes\n",
    "        self.firstname = firstname\n",
    "        self.lastname = lastname\n",
    "        self.salary = salary\n",
    "        self.email = f'{firstname}{lastname}@orgz.com'.lower()\n",
    "        \n",
    "    # method\n",
    "    def full_name(self):\n",
    "        return f'{self.firstname} {self.lastname}'\n",
    "    \n",
    "    \n",
    "    def apply_increment(self):\n",
    "        self.salary = self.salary*self.increment"
   ]
  },
  {
   "cell_type": "code",
   "execution_count": 2,
   "id": "7638f7b1",
   "metadata": {},
   "outputs": [],
   "source": [
    "emp_1 = Employee('Isha','Tiwari',100)\n",
    "emp_2 = Employee('Amit','Thakur',200)"
   ]
  },
  {
   "cell_type": "markdown",
   "id": "c118d356",
   "metadata": {},
   "source": [
    "# Simple Inheritance "
   ]
  },
  {
   "cell_type": "code",
   "execution_count": 3,
   "id": "053cc797",
   "metadata": {},
   "outputs": [],
   "source": [
    "class Employee: # class Employee(builtin.objects)\n",
    "\n",
    "    increment = 1.05\n",
    "    \n",
    "    emp_count = 0\n",
    "   \n",
    "    def __init__(self,firstname,lastname,salary): \n",
    "        \n",
    "        Employee.emp_count+=1\n",
    "   \n",
    "        # Attributes\n",
    "        self.firstname = firstname\n",
    "        self.lastname = lastname\n",
    "        self.salary = salary\n",
    "        self.email = f'{firstname}{lastname}@orgz.com'.lower()\n",
    "        \n",
    "    # method\n",
    "    def full_name(self):\n",
    "        return f'{self.firstname} {self.lastname}'\n",
    "    \n",
    "    \n",
    "    def apply_increment(self):\n",
    "        self.salary = self.salary*self.increment"
   ]
  },
  {
   "cell_type": "code",
   "execution_count": 4,
   "id": "f64de922",
   "metadata": {},
   "outputs": [],
   "source": [
    "class SDE(Employee):\n",
    "    \n",
    "    pass"
   ]
  },
  {
   "cell_type": "code",
   "execution_count": 5,
   "id": "4eb23561",
   "metadata": {},
   "outputs": [],
   "source": [
    "emp_1 = Employee('Isha','Tiwari',100)\n",
    "sde_1 = SDE('Amit','Thakur',200)"
   ]
  },
  {
   "cell_type": "code",
   "execution_count": 6,
   "id": "96f1f329",
   "metadata": {},
   "outputs": [
    {
     "data": {
      "text/plain": [
       "'Amit Thakur'"
      ]
     },
     "execution_count": 6,
     "metadata": {},
     "output_type": "execute_result"
    }
   ],
   "source": [
    "sde_1.full_name()"
   ]
  },
  {
   "cell_type": "code",
   "execution_count": 13,
   "id": "b452ef6e",
   "metadata": {},
   "outputs": [],
   "source": [
    "class Employee: # class Employee(builtin.objects)\n",
    "\n",
    "    increment = 1.05\n",
    "    \n",
    "    emp_count = 0\n",
    "   \n",
    "    def __init__(self,firstname,lastname,salary): \n",
    "        \n",
    "        Employee.emp_count+=1\n",
    "   \n",
    "        # Attributes\n",
    "        self.firstname = firstname\n",
    "        self.lastname = lastname\n",
    "        self.salary = salary\n",
    "        self.email = f'{firstname}{lastname}@orgz.com'.lower()\n",
    "        \n",
    "    # method\n",
    "    def full_name(self):\n",
    "        return f'{self.firstname} {self.lastname}'\n",
    "    \n",
    "    \n",
    "    def apply_increment(self):\n",
    "        self.salary = self.salary*self.increment"
   ]
  },
  {
   "cell_type": "code",
   "execution_count": 17,
   "id": "d5e51ed9",
   "metadata": {},
   "outputs": [],
   "source": [
    "class SDE(Employee):\n",
    "    \n",
    "    def __init__(self,firstname,lastname,salary,language):\n",
    "        \n",
    "        Employee.__init__(self,firstname,lastname,salary)\n",
    "        \n",
    "        self.prog_lang = language"
   ]
  },
  {
   "cell_type": "code",
   "execution_count": 18,
   "id": "abda65fc",
   "metadata": {},
   "outputs": [],
   "source": [
    "sde_1 = SDE('Amit','Thakur',200,'python')"
   ]
  },
  {
   "cell_type": "code",
   "execution_count": 19,
   "id": "76600f57",
   "metadata": {},
   "outputs": [
    {
     "data": {
      "text/plain": [
       "'Amit'"
      ]
     },
     "execution_count": 19,
     "metadata": {},
     "output_type": "execute_result"
    }
   ],
   "source": [
    "sde_1.firstname"
   ]
  },
  {
   "cell_type": "code",
   "execution_count": 20,
   "id": "976e2c46",
   "metadata": {},
   "outputs": [
    {
     "data": {
      "text/plain": [
       "'amitthakur@orgz.com'"
      ]
     },
     "execution_count": 20,
     "metadata": {},
     "output_type": "execute_result"
    }
   ],
   "source": [
    "sde_1.email"
   ]
  },
  {
   "cell_type": "code",
   "execution_count": 21,
   "id": "41c18556",
   "metadata": {},
   "outputs": [
    {
     "data": {
      "text/plain": [
       "'python'"
      ]
     },
     "execution_count": 21,
     "metadata": {},
     "output_type": "execute_result"
    }
   ],
   "source": [
    "sde_1.prog_lang"
   ]
  },
  {
   "cell_type": "code",
   "execution_count": 22,
   "id": "43c5f0ea",
   "metadata": {},
   "outputs": [
    {
     "data": {
      "text/plain": [
       "'Amit Thakur'"
      ]
     },
     "execution_count": 22,
     "metadata": {},
     "output_type": "execute_result"
    }
   ],
   "source": [
    "sde_1.full_name()"
   ]
  },
  {
   "cell_type": "code",
   "execution_count": 36,
   "id": "cf77dda6",
   "metadata": {},
   "outputs": [],
   "source": [
    "# Parent class\n",
    "class Employee: # class Employee(builtin.objects)\n",
    "\n",
    "    increment = 1.05\n",
    "    \n",
    "    emp_count = 0\n",
    "   \n",
    "    def __init__(self,firstname,lastname,salary): \n",
    "        \n",
    "        Employee.emp_count+=1\n",
    "   \n",
    "        # Attributes\n",
    "        self.firstname = firstname\n",
    "        self.lastname = lastname\n",
    "        self.salary = salary\n",
    "        self.email = f'{firstname}{lastname}@orgz.com'.lower()\n",
    "        \n",
    "    # method\n",
    "    def full_name(self):\n",
    "        return f'{self.firstname} {self.lastname}'\n",
    "    \n",
    "    \n",
    "    def apply_increment(self):\n",
    "        self.salary = self.salary*self.increment"
   ]
  },
  {
   "cell_type": "code",
   "execution_count": 37,
   "id": "b01019e0",
   "metadata": {},
   "outputs": [],
   "source": [
    "class SDE(Employee): # Child class\n",
    "    \n",
    "    increment = 1.1\n",
    "    \n",
    "    sde_count = 0\n",
    "    \n",
    "    def __init__(self,firstname,lastname,salary,language):\n",
    "        \n",
    "        Employee.__init__(self,firstname,lastname,salary)\n",
    "        \n",
    "        SDE.sde_count += 1\n",
    "        \n",
    "        self.prog_lang = language"
   ]
  },
  {
   "cell_type": "code",
   "execution_count": 38,
   "id": "ef71b5ed",
   "metadata": {},
   "outputs": [],
   "source": [
    "emp_1 = Employee('Isha','Tiwari',100)\n",
    "emp_2 = Employee('Ridhima','Sharma',100)\n",
    "sde_1 = SDE('Amit','Thakur',100,'python')"
   ]
  },
  {
   "cell_type": "code",
   "execution_count": 39,
   "id": "886aea99",
   "metadata": {},
   "outputs": [
    {
     "name": "stdout",
     "output_type": "stream",
     "text": [
      "1.05\n",
      "1.05\n",
      "1.1\n"
     ]
    }
   ],
   "source": [
    "print(emp_1.increment)\n",
    "print(emp_2.increment)\n",
    "print(sde_1.increment)"
   ]
  },
  {
   "cell_type": "code",
   "execution_count": 40,
   "id": "990e750d",
   "metadata": {},
   "outputs": [
    {
     "name": "stdout",
     "output_type": "stream",
     "text": [
      "100\n",
      "100\n",
      "100\n"
     ]
    }
   ],
   "source": [
    "print(emp_1.salary)\n",
    "print(emp_2.salary)\n",
    "print(sde_1.salary)"
   ]
  },
  {
   "cell_type": "code",
   "execution_count": 41,
   "id": "fa81c85b",
   "metadata": {},
   "outputs": [
    {
     "name": "stdout",
     "output_type": "stream",
     "text": [
      "105.0\n",
      "105.0\n",
      "110.00000000000001\n"
     ]
    }
   ],
   "source": [
    "emp_1.apply_increment()\n",
    "emp_2.apply_increment()\n",
    "sde_1.apply_increment()\n",
    "\n",
    "print(emp_1.salary)\n",
    "print(emp_2.salary)\n",
    "print(sde_1.salary)"
   ]
  },
  {
   "cell_type": "code",
   "execution_count": 42,
   "id": "859a1ed1",
   "metadata": {},
   "outputs": [
    {
     "name": "stdout",
     "output_type": "stream",
     "text": [
      "3\n",
      "1\n"
     ]
    }
   ],
   "source": [
    "print(Employee.emp_count)\n",
    "print(SDE.sde_count)"
   ]
  },
  {
   "cell_type": "code",
   "execution_count": 43,
   "id": "6c2f5bf2",
   "metadata": {},
   "outputs": [
    {
     "name": "stdout",
     "output_type": "stream",
     "text": [
      "3\n"
     ]
    }
   ],
   "source": [
    "print(SDE.emp_count)"
   ]
  },
  {
   "cell_type": "code",
   "execution_count": 44,
   "id": "5d762473",
   "metadata": {},
   "outputs": [
    {
     "ename": "AttributeError",
     "evalue": "type object 'Employee' has no attribute 'sde_count'",
     "output_type": "error",
     "traceback": [
      "\u001b[1;31m---------------------------------------------------------------------------\u001b[0m",
      "\u001b[1;31mAttributeError\u001b[0m                            Traceback (most recent call last)",
      "Cell \u001b[1;32mIn[44], line 1\u001b[0m\n\u001b[1;32m----> 1\u001b[0m \u001b[38;5;28mprint\u001b[39m(Employee\u001b[38;5;241m.\u001b[39msde_count)\n",
      "\u001b[1;31mAttributeError\u001b[0m: type object 'Employee' has no attribute 'sde_count'"
     ]
    }
   ],
   "source": [
    "print(Employee.sde_count)"
   ]
  },
  {
   "cell_type": "markdown",
   "id": "a0594c82",
   "metadata": {},
   "source": [
    "# <center><u>Operator overloading and Method Overriding</center>"
   ]
  },
  {
   "attachments": {
    "image.png": {
     "image/png": "[encoded data removed]"
    }
   },
   "cell_type": "markdown",
   "id": "757a3eae",
   "metadata": {},
   "source": [
    "![image.png](attachment:image.png)"
   ]
  },
  {
   "attachments": {
    "image.png": {
     "image/png": "[encoded data removed]"
    }
   },
   "cell_type": "markdown",
   "id": "96cc0d07",
   "metadata": {},
   "source": [
    "# <center><u>Method Overloading</center>\n",
    "\n",
    "![image.png](attachment:image.png)"
   ]
  },
  {
   "cell_type": "code",
   "execution_count": 50,
   "id": "c7093627",
   "metadata": {},
   "outputs": [],
   "source": [
    "# Parent class\n",
    "class Employee: # class Employee(builtin.objects)\n",
    "\n",
    "    increment = 1.05\n",
    "    \n",
    "    emp_count = 0\n",
    "   \n",
    "    def __init__(self,firstname,lastname,salary): \n",
    "        \n",
    "        Employee.emp_count+=1\n",
    "   \n",
    "        # Attributes\n",
    "        self.firstname = firstname\n",
    "        self.lastname = lastname\n",
    "        self.salary = salary\n",
    "        self.email = f'{firstname}{lastname}@orgz.com'.lower()\n",
    "        \n",
    "    # method\n",
    "    def full_name(self):\n",
    "        return f'{self.firstname} {self.lastname}'\n",
    "    \n",
    "    \n",
    "    def apply_increment(self):\n",
    "        self.salary = self.salary*self.increment\n",
    "        \n",
    "    def info(self):\n",
    "        infolist = [self.firstname,self.lastname,self.email]\n",
    "        \n",
    "        return ' '.join(infolist)"
   ]
  },
  {
   "cell_type": "code",
   "execution_count": 51,
   "id": "6ee01af5",
   "metadata": {},
   "outputs": [],
   "source": [
    "class SDE(Employee): # Child class\n",
    "    \n",
    "    increment = 1.1\n",
    "    \n",
    "    sde_count = 0\n",
    "    \n",
    "    def __init__(self,firstname,lastname,salary,language):\n",
    "        \n",
    "        Employee.__init__(self,firstname,lastname,salary)\n",
    "        \n",
    "        SDE.sde_count += 1\n",
    "        \n",
    "        self.prog_lang = language\n",
    "        \n",
    "    def info(self):\n",
    "        infolist = [self.firstname,self.lastname,self.email,self.prog_lang]\n",
    "        \n",
    "        return ' '.join(infolist)"
   ]
  },
  {
   "cell_type": "code",
   "execution_count": 52,
   "id": "334802f1",
   "metadata": {},
   "outputs": [],
   "source": [
    "emp_1 = Employee('Isha','Tiwari',100)\n",
    "emp_2 = Employee('Ridhima','Sharma',100)\n",
    "sde_1 = SDE('Amit','Thakur',100,'python')"
   ]
  },
  {
   "cell_type": "code",
   "execution_count": 53,
   "id": "20e7515b",
   "metadata": {},
   "outputs": [
    {
     "data": {
      "text/plain": [
       "'Isha Tiwari ishatiwari@orgz.com'"
      ]
     },
     "execution_count": 53,
     "metadata": {},
     "output_type": "execute_result"
    }
   ],
   "source": [
    "emp_1.info()"
   ]
  },
  {
   "cell_type": "code",
   "execution_count": 54,
   "id": "ccd0773f",
   "metadata": {},
   "outputs": [
    {
     "data": {
      "text/plain": [
       "'Amit Thakur amitthakur@orgz.com python'"
      ]
     },
     "execution_count": 54,
     "metadata": {},
     "output_type": "execute_result"
    }
   ],
   "source": [
    "sde_1.info()"
   ]
  },
  {
   "cell_type": "code",
   "execution_count": 55,
   "id": "c3431707",
   "metadata": {},
   "outputs": [
    {
     "data": {
      "text/plain": [
       "[__main__.SDE, __main__.Employee, object]"
      ]
     },
     "execution_count": 55,
     "metadata": {},
     "output_type": "execute_result"
    }
   ],
   "source": [
    "# method resolution order\n",
    "\n",
    "SDE.mro()"
   ]
  },
  {
   "cell_type": "code",
   "execution_count": 56,
   "id": "b82b1c33",
   "metadata": {
    "scrolled": true
   },
   "outputs": [
    {
     "name": "stdout",
     "output_type": "stream",
     "text": [
      "Help on class SDE in module __main__:\n",
      "\n",
      "class SDE(Employee)\n",
      " |  SDE(firstname, lastname, salary, language)\n",
      " |  \n",
      " |  Method resolution order:\n",
      " |      SDE\n",
      " |      Employee\n",
      " |      builtins.object\n",
      " |  \n",
      " |  Methods defined here:\n",
      " |  \n",
      " |  __init__(self, firstname, lastname, salary, language)\n",
      " |      Initialize self.  See help(type(self)) for accurate signature.\n",
      " |  \n",
      " |  info(self)\n",
      " |  \n",
      " |  ----------------------------------------------------------------------\n",
      " |  Data and other attributes defined here:\n",
      " |  \n",
      " |  increment = 1.1\n",
      " |  \n",
      " |  sde_count = 1\n",
      " |  \n",
      " |  ----------------------------------------------------------------------\n",
      " |  Methods inherited from Employee:\n",
      " |  \n",
      " |  apply_increment(self)\n",
      " |  \n",
      " |  full_name(self)\n",
      " |      # method\n",
      " |  \n",
      " |  ----------------------------------------------------------------------\n",
      " |  Data descriptors inherited from Employee:\n",
      " |  \n",
      " |  __dict__\n",
      " |      dictionary for instance variables (if defined)\n",
      " |  \n",
      " |  __weakref__\n",
      " |      list of weak references to the object (if defined)\n",
      " |  \n",
      " |  ----------------------------------------------------------------------\n",
      " |  Data and other attributes inherited from Employee:\n",
      " |  \n",
      " |  emp_count = 3\n",
      "\n"
     ]
    }
   ],
   "source": [
    "help(SDE)"
   ]
  },
  {
   "cell_type": "code",
   "execution_count": 1,
   "id": "4ecab756",
   "metadata": {},
   "outputs": [],
   "source": [
    "## __repr__ and __str__"
   ]
  },
  {
   "cell_type": "code",
   "execution_count": 93,
   "id": "4ac477c1",
   "metadata": {},
   "outputs": [],
   "source": [
    "class Employee:\n",
    "\n",
    "    increment = 1.05\n",
    "    \n",
    "    emp_count = 0\n",
    "   \n",
    "    def __init__(self,firstname,lastname,salary): \n",
    "        \n",
    "        Employee.emp_count+=1\n",
    "   \n",
    "        # Attributes\n",
    "        self.firstname = firstname\n",
    "        self.lastname = lastname\n",
    "        self.salary = salary\n",
    "        self.email = f'{firstname}{lastname}@orgz.com'.lower()\n",
    "        \n",
    "    # method\n",
    "    def full_name(self):\n",
    "        return f'{self.firstname} {self.lastname}'\n",
    "    \n",
    "    \n",
    "    def length(self):\n",
    "        \n",
    "        length = len(self.full_name())\n",
    "        \n",
    "        return length\n",
    "   \n",
    "    def __add__(self,other):\n",
    "        \n",
    "        concat_name = self.firstname+other.firstname\n",
    "        total = self.salary+other.salary\n",
    "        \n",
    "        \n",
    "        return f'{self.firstname}:{self.salary}\\n{other.firstname}:{other.salary}\\n{total}'\n",
    "            \n",
    "            \n",
    "    def __len__(self):\n",
    "        \n",
    "        length = len(self.full_name())\n",
    "        \n",
    "        return length"
   ]
  },
  {
   "cell_type": "code",
   "execution_count": 94,
   "id": "3a64b184",
   "metadata": {},
   "outputs": [],
   "source": [
    "emp_1 = Employee('Isha','Tiwari',100)\n",
    "emp_2 = Employee('Ridhima','Sharma',100)"
   ]
  },
  {
   "cell_type": "code",
   "execution_count": 95,
   "id": "711690d2",
   "metadata": {},
   "outputs": [
    {
     "data": {
      "text/plain": [
       "11"
      ]
     },
     "execution_count": 95,
     "metadata": {},
     "output_type": "execute_result"
    }
   ],
   "source": [
    "len(emp_1)"
   ]
  },
  {
   "cell_type": "code",
   "execution_count": 96,
   "id": "ead31bfd",
   "metadata": {},
   "outputs": [
    {
     "name": "stdout",
     "output_type": "stream",
     "text": [
      "<__main__.Employee object at 0x000002892676ABD0>\n"
     ]
    }
   ],
   "source": [
    "print(emp_1)"
   ]
  },
  {
   "cell_type": "code",
   "execution_count": 97,
   "id": "f5c6ec35",
   "metadata": {},
   "outputs": [
    {
     "name": "stdout",
     "output_type": "stream",
     "text": [
      "<slot wrapper '__str__' of 'object' objects>\n",
      "<slot wrapper '__repr__' of 'object' objects>\n"
     ]
    }
   ],
   "source": [
    "print(Employee.__str__)\n",
    "print(Employee.__repr__)"
   ]
  },
  {
   "cell_type": "code",
   "execution_count": 98,
   "id": "c5de5a70",
   "metadata": {},
   "outputs": [
    {
     "name": "stdout",
     "output_type": "stream",
     "text": [
      "<__main__.Employee object at 0x000002892676ABD0>\n",
      "<__main__.Employee object at 0x000002892676ABD0>\n"
     ]
    }
   ],
   "source": [
    "print(str(emp_1))\n",
    "print(repr(emp_1))"
   ]
  },
  {
   "cell_type": "code",
   "execution_count": 99,
   "id": "b8028efc",
   "metadata": {},
   "outputs": [],
   "source": [
    "class Employee:\n",
    "\n",
    "    increment = 1.05\n",
    "    \n",
    "    emp_count = 0\n",
    "   \n",
    "    def __init__(self,firstname,lastname,salary): \n",
    "        \n",
    "        Employee.emp_count+=1\n",
    "   \n",
    "        # Attributes\n",
    "        self.firstname = firstname\n",
    "        self.lastname = lastname\n",
    "        self.salary = salary\n",
    "        self.email = f'{firstname}{lastname}@orgz.com'.lower()\n",
    "        \n",
    "    # method\n",
    "    def full_name(self):\n",
    "        return f'{self.firstname} {self.lastname}'\n",
    "    \n",
    "    \n",
    "    def length(self):\n",
    "        \n",
    "        length = len(self.full_name())\n",
    "        \n",
    "        return length\n",
    "   \n",
    "    def __add__(self,other):\n",
    "        \n",
    "        concat_name = self.firstname+other.firstname\n",
    "        total = self.salary+other.salary\n",
    "        \n",
    "        \n",
    "        return f'{self.firstname}:{self.salary}\\n{other.firstname}:{other.salary}\\n{total}'\n",
    "            \n",
    "            \n",
    "    def __len__(self):\n",
    "        \n",
    "        length = len(self.full_name())\n",
    "        \n",
    "        return length\n",
    "    \n",
    "    \n",
    "    def __str__(self):\n",
    "        \n",
    "        return f\"Employee('{self.firstname}','{self.lastname}',{self.salary})\"\n",
    "    \n",
    "    def __repr__(self):\n",
    "        return f\"__repr__: Employee('{self.firstname}','{self.lastname}',{self.salary})\""
   ]
  },
  {
   "cell_type": "code",
   "execution_count": 100,
   "id": "7f957fd4",
   "metadata": {},
   "outputs": [],
   "source": [
    "emp_1 = Employee('Isha','Tiwari',100)\n",
    "emp_2 = Employee('Ridhima','Sharma',100)"
   ]
  },
  {
   "cell_type": "code",
   "execution_count": 101,
   "id": "93296687",
   "metadata": {},
   "outputs": [
    {
     "name": "stdout",
     "output_type": "stream",
     "text": [
      "Employee('Isha','Tiwari',100)\n",
      "Employee('Ridhima','Sharma',100)\n"
     ]
    }
   ],
   "source": [
    "print(emp_1)\n",
    "print(emp_2)"
   ]
  },
  {
   "cell_type": "code",
   "execution_count": 102,
   "id": "aa3cfc56",
   "metadata": {},
   "outputs": [
    {
     "name": "stdout",
     "output_type": "stream",
     "text": [
      "<function Employee.__str__ at 0x000002892677B880>\n",
      "<function Employee.__repr__ at 0x000002892677B9C0>\n"
     ]
    }
   ],
   "source": [
    "print(Employee.__str__)\n",
    "print(Employee.__repr__)"
   ]
  },
  {
   "cell_type": "code",
   "execution_count": 103,
   "id": "7896389f",
   "metadata": {},
   "outputs": [
    {
     "name": "stdout",
     "output_type": "stream",
     "text": [
      "Employee('Isha','Tiwari',100)\n",
      "__repr__: Employee('Isha','Tiwari',100)\n"
     ]
    }
   ],
   "source": [
    "print(str(emp_1))\n",
    "print(repr(emp_1))"
   ]
  },
  {
   "cell_type": "code",
   "execution_count": null,
   "id": "45958a26",
   "metadata": {},
   "outputs": [],
   "source": []
  }
 ],
 "metadata": {
  "kernelspec": {
   "display_name": "Python 3 (ipykernel)",
   "language": "python",
   "name": "python3"
  },
  "language_info": {
   "codemirror_mode": {
    "name": "ipython",
    "version": 3
   },
   "file_extension": ".py",
   "mimetype": "text/x-python",
   "name": "python",
   "nbconvert_exporter": "python",
   "pygments_lexer": "ipython3",
   "version": "3.11.4"
  }
 },
 "nbformat": 4,
 "nbformat_minor": 5
}
